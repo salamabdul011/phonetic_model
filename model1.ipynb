{
 "cells": [
  {
   "cell_type": "code",
   "execution_count": 1,
   "metadata": {},
   "outputs": [],
   "source": [
    "import pandas as pandas"
   ]
  },
  {
   "cell_type": "code",
   "execution_count": 2,
   "metadata": {},
   "outputs": [
    {
     "data": {
      "text/html": [
       "<div>\n",
       "<style scoped>\n",
       "    .dataframe tbody tr th:only-of-type {\n",
       "        vertical-align: middle;\n",
       "    }\n",
       "\n",
       "    .dataframe tbody tr th {\n",
       "        vertical-align: top;\n",
       "    }\n",
       "\n",
       "    .dataframe thead th {\n",
       "        text-align: right;\n",
       "    }\n",
       "</style>\n",
       "<table border=\"1\" class=\"dataframe\">\n",
       "  <thead>\n",
       "    <tr style=\"text-align: right;\">\n",
       "      <th></th>\n",
       "      <th>Product Name</th>\n",
       "      <th>Phonetic_1</th>\n",
       "      <th>Phonetic_2</th>\n",
       "      <th>Phonetic_3</th>\n",
       "      <th>Phonetic_4</th>\n",
       "    </tr>\n",
       "  </thead>\n",
       "  <tbody>\n",
       "    <tr>\n",
       "      <th>0</th>\n",
       "      <td>Garlic</td>\n",
       "      <td>garlik</td>\n",
       "      <td>garlik</td>\n",
       "      <td>garlik</td>\n",
       "      <td>garlik</td>\n",
       "    </tr>\n",
       "    <tr>\n",
       "      <th>1</th>\n",
       "      <td>Britannia Marie Gold Biscuits, 120gm</td>\n",
       "      <td>britannia marie guld bizkuitz, 120gm</td>\n",
       "      <td>britannia marie guld bizkuitz, 120gm</td>\n",
       "      <td>britannia marie guld bizkuitz, 120gm</td>\n",
       "      <td>britannia marie guld bizkuitz, 120gm</td>\n",
       "    </tr>\n",
       "    <tr>\n",
       "      <th>2</th>\n",
       "      <td>Sri Bhagyalakshmi Rice Flakes / Poha / Avalakk...</td>\n",
       "      <td>zri bhagialakzhmi rike flakez / puha / avalakk...</td>\n",
       "      <td>zri bhagialakzhmi rike flakez / puha / avalakk...</td>\n",
       "      <td>zri bhagialakzhmi rike flakez / puha / avalakk...</td>\n",
       "      <td>zri bhagialakzhmi rike flakez / puha / avalakk...</td>\n",
       "    </tr>\n",
       "    <tr>\n",
       "      <th>3</th>\n",
       "      <td>Rice Flour</td>\n",
       "      <td>rike fluur</td>\n",
       "      <td>rike fluur</td>\n",
       "      <td>rike fluur</td>\n",
       "      <td>rike fluur</td>\n",
       "    </tr>\n",
       "    <tr>\n",
       "      <th>4</th>\n",
       "      <td>Lay's Potato Chips - American Style Cream &amp; On...</td>\n",
       "      <td>lai'z putatu khipz - amerikan ztile krem &amp; uni...</td>\n",
       "      <td>lai'z putatu khipz - amerikan ztile krem &amp; uni...</td>\n",
       "      <td>lai'z putatu khipz - amerikan ztile krem &amp; uni...</td>\n",
       "      <td>lai'z putatu khipz - amerikan ztile krem &amp; uni...</td>\n",
       "    </tr>\n",
       "  </tbody>\n",
       "</table>\n",
       "</div>"
      ],
      "text/plain": [
       "                                        Product Name  \\\n",
       "0                                             Garlic   \n",
       "1               Britannia Marie Gold Biscuits, 120gm   \n",
       "2  Sri Bhagyalakshmi Rice Flakes / Poha / Avalakk...   \n",
       "3                                         Rice Flour   \n",
       "4  Lay's Potato Chips - American Style Cream & On...   \n",
       "\n",
       "                                          Phonetic_1  \\\n",
       "0                                             garlik   \n",
       "1               britannia marie guld bizkuitz, 120gm   \n",
       "2  zri bhagialakzhmi rike flakez / puha / avalakk...   \n",
       "3                                         rike fluur   \n",
       "4  lai'z putatu khipz - amerikan ztile krem & uni...   \n",
       "\n",
       "                                          Phonetic_2  \\\n",
       "0                                             garlik   \n",
       "1               britannia marie guld bizkuitz, 120gm   \n",
       "2  zri bhagialakzhmi rike flakez / puha / avalakk...   \n",
       "3                                         rike fluur   \n",
       "4  lai'z putatu khipz - amerikan ztile krem & uni...   \n",
       "\n",
       "                                          Phonetic_3  \\\n",
       "0                                             garlik   \n",
       "1               britannia marie guld bizkuitz, 120gm   \n",
       "2  zri bhagialakzhmi rike flakez / puha / avalakk...   \n",
       "3                                         rike fluur   \n",
       "4  lai'z putatu khipz - amerikan ztile krem & uni...   \n",
       "\n",
       "                                          Phonetic_4  \n",
       "0                                             garlik  \n",
       "1               britannia marie guld bizkuitz, 120gm  \n",
       "2  zri bhagialakzhmi rike flakez / puha / avalakk...  \n",
       "3                                         rike fluur  \n",
       "4  lai'z putatu khipz - amerikan ztile krem & uni...  "
      ]
     },
     "execution_count": 2,
     "metadata": {},
     "output_type": "execute_result"
    }
   ],
   "source": [
    "import pandas as pd\n",
    "\n",
    "# Load the dataset\n",
    "df = pd.read_csv(\"D:\\c drive settinf\\Desktop\\phonetic model\\Phonetics_data.csv\")  # Replace with your actual file path\n",
    "\n",
    "# Display the first few rows of the dataset\n",
    "df.head()"
   ]
  },
  {
   "cell_type": "code",
   "execution_count": 3,
   "metadata": {},
   "outputs": [
    {
     "data": {
      "text/plain": [
       "Product Name    0\n",
       "Phonetic_1      0\n",
       "Phonetic_2      0\n",
       "Phonetic_3      0\n",
       "Phonetic_4      0\n",
       "dtype: int64"
      ]
     },
     "execution_count": 3,
     "metadata": {},
     "output_type": "execute_result"
    }
   ],
   "source": [
    "df.isnull().sum()"
   ]
  },
  {
   "cell_type": "code",
   "execution_count": 4,
   "metadata": {},
   "outputs": [
    {
     "name": "stdout",
     "output_type": "stream",
     "text": [
      "Product Name    0\n",
      "Phonetic_1      0\n",
      "Phonetic_2      0\n",
      "Phonetic_3      0\n",
      "Phonetic_4      0\n",
      "dtype: int64\n"
     ]
    }
   ],
   "source": [
    "# Check for missing values\n",
    "print(df.isnull().sum())\n",
    "\n",
    "# Drop rows with missing values\n",
    "df.dropna(inplace=True)"
   ]
  },
  {
   "cell_type": "code",
   "execution_count": null,
   "metadata": {},
   "outputs": [],
   "source": [
    "\n"
   ]
  },
  {
   "cell_type": "code",
   "execution_count": 5,
   "metadata": {},
   "outputs": [],
   "source": [
    "from sklearn.feature_extraction.text import CountVectorizer\n",
    "from sklearn.model_selection import train_test_split\n",
    "\n",
    "# Split the dataset into features and target variable\n",
    "X = df['Phonetic_1']\n",
    "y = df['Product Name']\n",
    "\n",
    "# Split the data into training and testing sets\n",
    "X_train, X_test, y_train, y_test = train_test_split(X, y, test_size=0.2, random_state=42)\n",
    "\n",
    "# Vectorize the phonetic input\n",
    "vectorizer = CountVectorizer()\n",
    "X_train_vect = vectorizer.fit_transform(X_train)\n",
    "X_test_vect = vectorizer.transform(X_test)"
   ]
  },
  {
   "cell_type": "code",
   "execution_count": 6,
   "metadata": {},
   "outputs": [
    {
     "name": "stdout",
     "output_type": "stream",
     "text": [
      "Accuracy: 79.41176470588235\n"
     ]
    }
   ],
   "source": [
    "from sklearn.ensemble import RandomForestClassifier\n",
    "from sklearn.metrics import classification_report, accuracy_score\n",
    "\n",
    "# Initialize the model\n",
    "model = RandomForestClassifier()\n",
    "\n",
    "# Train the model\n",
    "model.fit(X_train_vect, y_train)\n",
    "\n",
    "# Make predictions\n",
    "y_pred = model.predict(X_test_vect)\n",
    "\n",
    "# Evaluate the model\n",
    "print(\"Accuracy:\", accuracy_score(y_test, y_pred)*100)\n",
    "# print(classification_report(y_test, y_pred))"
   ]
  },
  {
   "cell_type": "code",
   "execution_count": 7,
   "metadata": {},
   "outputs": [
    {
     "name": "stdout",
     "output_type": "stream",
     "text": [
      "Predicted Product Name: Whole Wheat Flour\n"
     ]
    }
   ],
   "source": [
    "def predict_product_name(phonetic_input):\n",
    "    # Transform the phonetic input using the vectorizer\n",
    "    phonetic_vect = vectorizer.transform([phonetic_input])\n",
    "    \n",
    "    # Predict the product name\n",
    "    predicted_product = model.predict(phonetic_vect)\n",
    "    return predicted_product[0]\n",
    "\n",
    "\n",
    "new_phonetic_input = \"whule whet fluur\" \n",
    "predicted_product_name = predict_product_name(new_phonetic_input)\n",
    "print(\"Predicted Product Name:\", predicted_product_name)"
   ]
  },
  {
   "cell_type": "code",
   "execution_count": 8,
   "metadata": {},
   "outputs": [
    {
     "name": "stdout",
     "output_type": "stream",
     "text": [
      "Predicted Product Name: Catch Club Soda, 1L\n"
     ]
    }
   ],
   "source": [
    "new_phonetic_input = \"katch klub shoda\"\n",
    "predicted_product_name = predict_product_name(new_phonetic_input)\n",
    "print(\"Predicted Product Name:\", predicted_product_name)"
   ]
  },
  {
   "cell_type": "code",
   "execution_count": 9,
   "metadata": {},
   "outputs": [
    {
     "name": "stdout",
     "output_type": "stream",
     "text": [
      "Predicted Product Name: Ghee Roast\n"
     ]
    }
   ],
   "source": [
    "new_phonetic_input = \"ghi rost dusa\"\n",
    "predicted_product_name = predict_product_name(new_phonetic_input)\n",
    "print(\"Predicted Product Name:\", predicted_product_name)"
   ]
  },
  {
   "cell_type": "code",
   "execution_count": 11,
   "metadata": {},
   "outputs": [
    {
     "name": "stdout",
     "output_type": "stream",
     "text": [
      "Predicted Product Name: Beetroot\n"
     ]
    }
   ],
   "source": [
    "new_phonetic_input = \"bt rot\"\n",
    "predicted_product_name = predict_product_name(new_phonetic_input)\n",
    "print(\"Predicted Product Name:\", predicted_product_name)"
   ]
  },
  {
   "cell_type": "code",
   "execution_count": null,
   "metadata": {},
   "outputs": [],
   "source": []
  }
 ],
 "metadata": {
  "kernelspec": {
   "display_name": "base",
   "language": "python",
   "name": "python3"
  },
  "language_info": {
   "codemirror_mode": {
    "name": "ipython",
    "version": 3
   },
   "file_extension": ".py",
   "mimetype": "text/x-python",
   "name": "python",
   "nbconvert_exporter": "python",
   "pygments_lexer": "ipython3",
   "version": "3.9.13"
  }
 },
 "nbformat": 4,
 "nbformat_minor": 2
}
